{
 "cells": [
  {
   "cell_type": "code",
   "execution_count": 1,
   "metadata": {},
   "outputs": [],
   "source": [
    "from __future__ import print_function\n",
    "import time\n",
    "import intrinio_sdk\n",
    "from intrinio_sdk.rest import ApiException\n",
    "from pprint import pprint\n",
    "import matplotlib.pyplot as plt\n",
    "intrinio_sdk.ApiClient().configuration.api_key['api_key'] = 'OmNjN2M0YzRjMjNhZjQ1Zjc3NzZiODI4MmNjMjc4Njgw'"
   ]
  },
  {
   "cell_type": "code",
   "execution_count": 2,
   "metadata": {},
   "outputs": [
    {
     "name": "stderr",
     "output_type": "stream",
     "text": [
      "Using TensorFlow backend.\n"
     ]
    }
   ],
   "source": [
    "import math\n",
    "#import pandas_datareader as web\n",
    "import numpy as np\n",
    "import pandas as pd\n",
    "from sklearn.preprocessing import MinMaxScaler\n",
    "from keras.models import Sequential\n",
    "from keras.layers import Dense, LSTM\n",
    "import matplotlib.pyplot as plt\n",
    "plt.style.use('fivethirtyeight')"
   ]
  },
  {
   "cell_type": "code",
   "execution_count": 3,
   "metadata": {},
   "outputs": [],
   "source": [
    "security_api = intrinio_sdk.SecurityApi()\n",
    "\n",
    "identifier = 'MSFT' # str | A Security identifier (Ticker, FIGI, ISIN, CUSIP, Intrinio ID)\n",
    "start_date = '2010-01-01' # date | Return prices on or after the date (optional)\n",
    "end_date = '2020-07-27' # date | Return prices on or before the date (optional)\n",
    "frequency = 'daily' # str | Return stock prices in the given frequency (optional) (default to daily)\n",
    "page_size = 3000 # int | The number of results to return (optional) (default to 100)\n",
    "next_page = '' # str | Gets the next page of data from a previous API call (optional)\n",
    "\n",
    "try:\n",
    "  api_response = security_api.get_security_stock_prices(identifier, start_date=start_date, end_date=end_date, frequency=frequency, page_size=page_size, next_page=next_page)\n",
    "  #pprint(api_response)\n",
    "except ApiException as e:\n",
    "  print(\"Exception when calling SecurityApi->get_security_stock_prices: %s\\r\\n\" % e)\n",
    "        "
   ]
  },
  {
   "cell_type": "code",
   "execution_count": 4,
   "metadata": {},
   "outputs": [
    {
     "name": "stdout",
     "output_type": "stream",
     "text": [
      "2667\n"
     ]
    }
   ],
   "source": [
    "t=[]\n",
    "print(len(api_response.stock_prices))\n",
    "for i in range(len(api_response.stock_prices)):\n",
    "    temp = api_response.stock_prices[i].open\n",
    "    t.append(temp)"
   ]
  },
  {
   "cell_type": "code",
   "execution_count": 5,
   "metadata": {},
   "outputs": [],
   "source": [
    "df = pd.DataFrame(api_response.stock_prices_dict)\n"
   ]
  },
  {
   "cell_type": "code",
   "execution_count": 6,
   "metadata": {},
   "outputs": [],
   "source": [
    "df.sort_values([\"date\"], axis=0, \n",
    "                 ascending=True, inplace=True) "
   ]
  },
  {
   "cell_type": "code",
   "execution_count": 7,
   "metadata": {},
   "outputs": [],
   "source": [
    "df.set_index('date',inplace=True)"
   ]
  },
  {
   "cell_type": "code",
   "execution_count": 8,
   "metadata": {},
   "outputs": [
    {
     "data": {
      "text/html": [
       "<div>\n",
       "<style scoped>\n",
       "    .dataframe tbody tr th:only-of-type {\n",
       "        vertical-align: middle;\n",
       "    }\n",
       "\n",
       "    .dataframe tbody tr th {\n",
       "        vertical-align: top;\n",
       "    }\n",
       "\n",
       "    .dataframe thead th {\n",
       "        text-align: right;\n",
       "    }\n",
       "</style>\n",
       "<table border=\"1\" class=\"dataframe\">\n",
       "  <thead>\n",
       "    <tr style=\"text-align: right;\">\n",
       "      <th></th>\n",
       "      <th>intraperiod</th>\n",
       "      <th>frequency</th>\n",
       "      <th>open</th>\n",
       "      <th>high</th>\n",
       "      <th>low</th>\n",
       "      <th>close</th>\n",
       "      <th>volume</th>\n",
       "      <th>adj_open</th>\n",
       "      <th>adj_high</th>\n",
       "      <th>adj_low</th>\n",
       "      <th>adj_close</th>\n",
       "      <th>adj_volume</th>\n",
       "    </tr>\n",
       "    <tr>\n",
       "      <th>date</th>\n",
       "      <th></th>\n",
       "      <th></th>\n",
       "      <th></th>\n",
       "      <th></th>\n",
       "      <th></th>\n",
       "      <th></th>\n",
       "      <th></th>\n",
       "      <th></th>\n",
       "      <th></th>\n",
       "      <th></th>\n",
       "      <th></th>\n",
       "      <th></th>\n",
       "    </tr>\n",
       "  </thead>\n",
       "  <tbody>\n",
       "    <tr>\n",
       "      <td>2010-01-04</td>\n",
       "      <td>False</td>\n",
       "      <td>daily</td>\n",
       "      <td>30.65</td>\n",
       "      <td>31.10</td>\n",
       "      <td>30.59</td>\n",
       "      <td>30.950</td>\n",
       "      <td>38414185.0</td>\n",
       "      <td>23.992776</td>\n",
       "      <td>24.345035</td>\n",
       "      <td>23.945808</td>\n",
       "      <td>24.227615</td>\n",
       "      <td>38414185.0</td>\n",
       "    </tr>\n",
       "    <tr>\n",
       "      <td>2010-01-05</td>\n",
       "      <td>False</td>\n",
       "      <td>daily</td>\n",
       "      <td>30.87</td>\n",
       "      <td>31.10</td>\n",
       "      <td>30.64</td>\n",
       "      <td>30.960</td>\n",
       "      <td>49758862.0</td>\n",
       "      <td>24.164991</td>\n",
       "      <td>24.345035</td>\n",
       "      <td>23.984948</td>\n",
       "      <td>24.235443</td>\n",
       "      <td>49758862.0</td>\n",
       "    </tr>\n",
       "    <tr>\n",
       "      <td>2010-01-06</td>\n",
       "      <td>False</td>\n",
       "      <td>daily</td>\n",
       "      <td>30.88</td>\n",
       "      <td>31.08</td>\n",
       "      <td>30.52</td>\n",
       "      <td>30.770</td>\n",
       "      <td>58182332.0</td>\n",
       "      <td>24.172819</td>\n",
       "      <td>24.329379</td>\n",
       "      <td>23.891012</td>\n",
       "      <td>24.086711</td>\n",
       "      <td>58182332.0</td>\n",
       "    </tr>\n",
       "    <tr>\n",
       "      <td>2010-01-07</td>\n",
       "      <td>False</td>\n",
       "      <td>daily</td>\n",
       "      <td>30.61</td>\n",
       "      <td>30.70</td>\n",
       "      <td>30.19</td>\n",
       "      <td>30.452</td>\n",
       "      <td>50564285.0</td>\n",
       "      <td>23.961464</td>\n",
       "      <td>24.031916</td>\n",
       "      <td>23.632688</td>\n",
       "      <td>23.837782</td>\n",
       "      <td>50564285.0</td>\n",
       "    </tr>\n",
       "    <tr>\n",
       "      <td>2010-01-08</td>\n",
       "      <td>False</td>\n",
       "      <td>daily</td>\n",
       "      <td>30.27</td>\n",
       "      <td>30.88</td>\n",
       "      <td>30.24</td>\n",
       "      <td>30.660</td>\n",
       "      <td>51201289.0</td>\n",
       "      <td>23.695312</td>\n",
       "      <td>24.172819</td>\n",
       "      <td>23.671828</td>\n",
       "      <td>24.000604</td>\n",
       "      <td>51201289.0</td>\n",
       "    </tr>\n",
       "  </tbody>\n",
       "</table>\n",
       "</div>"
      ],
      "text/plain": [
       "            intraperiod frequency   open   high    low   close      volume  \\\n",
       "date                                                                         \n",
       "2010-01-04        False     daily  30.65  31.10  30.59  30.950  38414185.0   \n",
       "2010-01-05        False     daily  30.87  31.10  30.64  30.960  49758862.0   \n",
       "2010-01-06        False     daily  30.88  31.08  30.52  30.770  58182332.0   \n",
       "2010-01-07        False     daily  30.61  30.70  30.19  30.452  50564285.0   \n",
       "2010-01-08        False     daily  30.27  30.88  30.24  30.660  51201289.0   \n",
       "\n",
       "             adj_open   adj_high    adj_low  adj_close  adj_volume  \n",
       "date                                                                \n",
       "2010-01-04  23.992776  24.345035  23.945808  24.227615  38414185.0  \n",
       "2010-01-05  24.164991  24.345035  23.984948  24.235443  49758862.0  \n",
       "2010-01-06  24.172819  24.329379  23.891012  24.086711  58182332.0  \n",
       "2010-01-07  23.961464  24.031916  23.632688  23.837782  50564285.0  \n",
       "2010-01-08  23.695312  24.172819  23.671828  24.000604  51201289.0  "
      ]
     },
     "execution_count": 8,
     "metadata": {},
     "output_type": "execute_result"
    }
   ],
   "source": [
    "df.head()\n"
   ]
  },
  {
   "cell_type": "code",
   "execution_count": 9,
   "metadata": {},
   "outputs": [
    {
     "data": {
      "text/plain": [
       "(2667, 12)"
      ]
     },
     "execution_count": 9,
     "metadata": {},
     "output_type": "execute_result"
    }
   ],
   "source": [
    "df.shape"
   ]
  },
  {
   "cell_type": "code",
   "execution_count": 10,
   "metadata": {},
   "outputs": [],
   "source": [
    "#df['close'].plot(figsize=(16,6))"
   ]
  },
  {
   "cell_type": "code",
   "execution_count": 11,
   "metadata": {},
   "outputs": [
    {
     "name": "stderr",
     "output_type": "stream",
     "text": [
      "C:\\Users\\Akhilesh\\Anaconda3\\lib\\site-packages\\pandas\\plotting\\_matplotlib\\converter.py:103: FutureWarning: Using an implicitly registered datetime converter for a matplotlib plotting method. The converter was registered by pandas on import. Future versions of pandas will require you to explicitly register matplotlib converters.\n",
      "\n",
      "To register the converters:\n",
      "\t>>> from pandas.plotting import register_matplotlib_converters\n",
      "\t>>> register_matplotlib_converters()\n",
      "  warnings.warn(msg, FutureWarning)\n"
     ]
    },
    {
     "data": {
      "image/png": "[encoded data removed]",
      "text/plain": [
       "<Figure size 1152x576 with 1 Axes>"
      ]
     },
     "metadata": {},
     "output_type": "display_data"
    }
   ],
   "source": [
    "#Visualize the closing price history\n",
    "plt.figure(figsize=(16,8))\n",
    "plt.title('Close Price History')\n",
    "plt.plot(df['close'])\n",
    "\n",
    "plt.xlabel('date',fontsize=18)\n",
    "plt.ylabel('Close Price USD ($)',fontsize=18)\n",
    "plt.show()"
   ]
  },
  {
   "cell_type": "code",
   "execution_count": 12,
   "metadata": {},
   "outputs": [],
   "source": [
    "#Create a new dataframe with only the 'Close' column\n",
    "data = df.filter(['close'])\n",
    "#Converting the dataframe to a numpy array\n",
    "dataset = data.values\n",
    "#Get /Compute the number of rows to train the model on\n",
    "training_data_len = math.ceil( len(dataset) *.8) "
   ]
  },
  {
   "cell_type": "code",
   "execution_count": 13,
   "metadata": {},
   "outputs": [],
   "source": [
    "#Scale the all of the data to be values between 0 and 1 \n",
    "scaler = MinMaxScaler(feature_range=(0, 1)) \n",
    "scaled_data = scaler.fit_transform(dataset)"
   ]
  },
  {
   "cell_type": "code",
   "execution_count": 14,
   "metadata": {},
   "outputs": [],
   "source": [
    "#Create the scaled training data set \n",
    "train_data = scaled_data[0:training_data_len  , : ]\n",
    "#Split the data into x_train and y_train data sets\n",
    "x_train=[]\n",
    "y_train = []\n",
    "for i in range(60,len(train_data)):\n",
    "    x_train.append(train_data[i-60:i,0])\n",
    "    y_train.append(train_data[i,0])"
   ]
  },
  {
   "cell_type": "code",
   "execution_count": 15,
   "metadata": {},
   "outputs": [],
   "source": [
    "#Convert x_train and y_train to numpy arrays\n",
    "x_train, y_train = np.array(x_train), np.array(y_train)"
   ]
  },
  {
   "cell_type": "code",
   "execution_count": 16,
   "metadata": {},
   "outputs": [],
   "source": [
    "#Reshape the data into the shape accepted by the LSTM\n",
    "x_train = np.reshape(x_train, (x_train.shape[0],x_train.shape[1],1))"
   ]
  },
  {
   "cell_type": "code",
   "execution_count": 17,
   "metadata": {},
   "outputs": [
    {
     "name": "stdout",
     "output_type": "stream",
     "text": [
      "WARNING:tensorflow:From C:\\Users\\Akhilesh\\Anaconda3\\lib\\site-packages\\tensorflow_core\\python\\ops\\resource_variable_ops.py:1630: calling BaseResourceVariable.__init__ (from tensorflow.python.ops.resource_variable_ops) with constraint is deprecated and will be removed in a future version.\n",
      "Instructions for updating:\n",
      "If using Keras pass *_constraint arguments to layers.\n"
     ]
    }
   ],
   "source": [
    "#Build the LSTM network model\n",
    "model = Sequential()\n",
    "model.add(LSTM(units=50, return_sequences=True,input_shape=(x_train.shape[1],1)))\n",
    "model.add(LSTM(units=50, return_sequences=False))\n",
    "model.add(Dense(units=25))\n",
    "model.add(Dense(units=1))"
   ]
  },
  {
   "cell_type": "code",
   "execution_count": 18,
   "metadata": {},
   "outputs": [],
   "source": [
    "#Compile the model\n",
    "model.compile(optimizer='adam', loss='mean_squared_error')"
   ]
  },
  {
   "cell_type": "code",
   "execution_count": 19,
   "metadata": {},
   "outputs": [
    {
     "name": "stdout",
     "output_type": "stream",
     "text": [
      "WARNING:tensorflow:From C:\\Users\\Akhilesh\\Anaconda3\\lib\\site-packages\\keras\\backend\\tensorflow_backend.py:422: The name tf.global_variables is deprecated. Please use tf.compat.v1.global_variables instead.\n",
      "\n",
      "Epoch 1/1\n",
      "2074/2074 [==============================] - 116s 56ms/step - loss: 2.2199e-04\n"
     ]
    },
    {
     "data": {
      "text/plain": [
       "<keras.callbacks.callbacks.History at 0x246b300cf08>"
      ]
     },
     "execution_count": 19,
     "metadata": {},
     "output_type": "execute_result"
    }
   ],
   "source": [
    "#Train the model\n",
    "model.fit(x_train, y_train, batch_size=1, epochs=1)"
   ]
  },
  {
   "cell_type": "code",
   "execution_count": 20,
   "metadata": {},
   "outputs": [],
   "source": [
    "#Test data set\n",
    "test_data = scaled_data[training_data_len - 60: , : ]\n",
    "#Create the x_test and y_test data sets\n",
    "x_test = []\n",
    "y_test =  dataset[training_data_len : , : ] #Get all of the rows from index 1603 to the rest and all of the columns (in this case it's only column 'Close'), so 2003 - 1603 = 400 rows of data\n",
    "for i in range(60,len(test_data)):\n",
    "    x_test.append(test_data[i-60:i,0])"
   ]
  },
  {
   "cell_type": "code",
   "execution_count": 21,
   "metadata": {},
   "outputs": [],
   "source": [
    "#Convert x_test to a numpy array \n",
    "x_test = np.array(x_test)"
   ]
  },
  {
   "cell_type": "code",
   "execution_count": 22,
   "metadata": {},
   "outputs": [],
   "source": [
    "#Reshape the data into the shape accepted by the LSTM\n",
    "x_test = np.reshape(x_test, (x_test.shape[0],x_test.shape[1],1))"
   ]
  },
  {
   "cell_type": "code",
   "execution_count": 23,
   "metadata": {},
   "outputs": [],
   "source": [
    "#Getting the models predicted price values\n",
    "predictions = model.predict(x_test) \n",
    "predictions = scaler.inverse_transform(predictions)#Undo scaling"
   ]
  },
  {
   "cell_type": "code",
   "execution_count": 24,
   "metadata": {},
   "outputs": [
    {
     "data": {
      "text/plain": [
       "8.189745485438833"
      ]
     },
     "execution_count": 24,
     "metadata": {},
     "output_type": "execute_result"
    }
   ],
   "source": [
    "#Calculate/Get the value of RMSE\n",
    "rmse=np.sqrt(np.mean(((predictions- y_test)**2)))\n",
    "rmse"
   ]
  },
  {
   "cell_type": "code",
   "execution_count": 25,
   "metadata": {},
   "outputs": [
    {
     "name": "stderr",
     "output_type": "stream",
     "text": [
      "C:\\Users\\Akhilesh\\Anaconda3\\lib\\site-packages\\ipykernel_launcher.py:4: SettingWithCopyWarning: \n",
      "A value is trying to be set on a copy of a slice from a DataFrame.\n",
      "Try using .loc[row_indexer,col_indexer] = value instead\n",
      "\n",
      "See the caveats in the documentation: http://pandas.pydata.org/pandas-docs/stable/user_guide/indexing.html#returning-a-view-versus-a-copy\n",
      "  after removing the cwd from sys.path.\n"
     ]
    },
    {
     "data": {
      "image/png": "[encoded data removed]",
      "text/plain": [
       "<Figure size 1152x576 with 1 Axes>"
      ]
     },
     "metadata": {},
     "output_type": "display_data"
    }
   ],
   "source": [
    "#Plot/Create the data for the graph\n",
    "train = data[:training_data_len]\n",
    "valid = data[training_data_len:]\n",
    "valid['Predictions'] = predictions\n",
    "#Visualize the data\n",
    "plt.figure(figsize=(16,8))\n",
    "plt.title('Model')\n",
    "plt.xlabel('Date', fontsize=18)\n",
    "plt.ylabel('Close Price USD ($)', fontsize=18)\n",
    "plt.plot(train['close'])\n",
    "plt.plot(valid[['close', 'Predictions']])\n",
    "plt.legend(['Train', 'Val', 'Predictions'], loc='lower right')\n",
    "plt.show()"
   ]
  },
  {
   "cell_type": "code",
   "execution_count": 26,
   "metadata": {},
   "outputs": [
    {
     "data": {
      "text/html": [
       "<div>\n",
       "<style scoped>\n",
       "    .dataframe tbody tr th:only-of-type {\n",
       "        vertical-align: middle;\n",
       "    }\n",
       "\n",
       "    .dataframe tbody tr th {\n",
       "        vertical-align: top;\n",
       "    }\n",
       "\n",
       "    .dataframe thead th {\n",
       "        text-align: right;\n",
       "    }\n",
       "</style>\n",
       "<table border=\"1\" class=\"dataframe\">\n",
       "  <thead>\n",
       "    <tr style=\"text-align: right;\">\n",
       "      <th></th>\n",
       "      <th>close</th>\n",
       "      <th>Predictions</th>\n",
       "    </tr>\n",
       "    <tr>\n",
       "      <th>date</th>\n",
       "      <th></th>\n",
       "      <th></th>\n",
       "    </tr>\n",
       "  </thead>\n",
       "  <tbody>\n",
       "    <tr>\n",
       "      <td>2018-06-14</td>\n",
       "      <td>101.42</td>\n",
       "      <td>108.739357</td>\n",
       "    </tr>\n",
       "    <tr>\n",
       "      <td>2018-06-15</td>\n",
       "      <td>100.13</td>\n",
       "      <td>108.829926</td>\n",
       "    </tr>\n",
       "    <tr>\n",
       "      <td>2018-06-18</td>\n",
       "      <td>100.86</td>\n",
       "      <td>108.801407</td>\n",
       "    </tr>\n",
       "    <tr>\n",
       "      <td>2018-06-19</td>\n",
       "      <td>100.86</td>\n",
       "      <td>108.775505</td>\n",
       "    </tr>\n",
       "    <tr>\n",
       "      <td>2018-06-20</td>\n",
       "      <td>101.87</td>\n",
       "      <td>108.751144</td>\n",
       "    </tr>\n",
       "    <tr>\n",
       "      <td>...</td>\n",
       "      <td>...</td>\n",
       "      <td>...</td>\n",
       "    </tr>\n",
       "    <tr>\n",
       "      <td>2020-07-21</td>\n",
       "      <td>208.75</td>\n",
       "      <td>210.001877</td>\n",
       "    </tr>\n",
       "    <tr>\n",
       "      <td>2020-07-22</td>\n",
       "      <td>211.75</td>\n",
       "      <td>210.076797</td>\n",
       "    </tr>\n",
       "    <tr>\n",
       "      <td>2020-07-23</td>\n",
       "      <td>202.54</td>\n",
       "      <td>210.391312</td>\n",
       "    </tr>\n",
       "    <tr>\n",
       "      <td>2020-07-24</td>\n",
       "      <td>201.30</td>\n",
       "      <td>210.127625</td>\n",
       "    </tr>\n",
       "    <tr>\n",
       "      <td>2020-07-27</td>\n",
       "      <td>203.85</td>\n",
       "      <td>209.550186</td>\n",
       "    </tr>\n",
       "  </tbody>\n",
       "</table>\n",
       "<p>533 rows × 2 columns</p>\n",
       "</div>"
      ],
      "text/plain": [
       "             close  Predictions\n",
       "date                           \n",
       "2018-06-14  101.42   108.739357\n",
       "2018-06-15  100.13   108.829926\n",
       "2018-06-18  100.86   108.801407\n",
       "2018-06-19  100.86   108.775505\n",
       "2018-06-20  101.87   108.751144\n",
       "...            ...          ...\n",
       "2020-07-21  208.75   210.001877\n",
       "2020-07-22  211.75   210.076797\n",
       "2020-07-23  202.54   210.391312\n",
       "2020-07-24  201.30   210.127625\n",
       "2020-07-27  203.85   209.550186\n",
       "\n",
       "[533 rows x 2 columns]"
      ]
     },
     "execution_count": 26,
     "metadata": {},
     "output_type": "execute_result"
    }
   ],
   "source": [
    "#Show the valid and predicted prices\n",
    "valid"
   ]
  },
  {
   "cell_type": "code",
   "execution_count": 27,
   "metadata": {},
   "outputs": [],
   "source": [
    "security_api = intrinio_sdk.SecurityApi()\n",
    "\n",
    "identifier = 'MSFT' # str | A Security identifier (Ticker, FIGI, ISIN, CUSIP, Intrinio ID)\n",
    "start_date = '2020-07-' # date | Return prices on or after the date (optional)\n",
    "end_date = '2020-07-27' # date | Return prices on or before the date (optional)\n",
    "frequency = 'daily' # str | Return stock prices in the given frequency (optional) (default to daily)\n",
    "page_size = 3000 # int | The number of results to return (optional) (default to 100)\n",
    "next_page = '' # str | Gets the next page of data from a previous API call (optional)\n",
    "\n",
    "try:\n",
    "  api_response = security_api.get_security_stock_prices(identifier, start_date=start_date, end_date=end_date, frequency=frequency, page_size=page_size, next_page=next_page)\n",
    "  #pprint(api_response)\n",
    "except ApiException as e:\n",
    "  print(\"Exception when calling SecurityApi->get_security_stock_prices: %s\\r\\n\" % e)"
   ]
  },
  {
   "cell_type": "code",
   "execution_count": 28,
   "metadata": {},
   "outputs": [],
   "source": [
    "df1 = pd.DataFrame(api_response.stock_prices_dict)"
   ]
  },
  {
   "cell_type": "code",
   "execution_count": 29,
   "metadata": {},
   "outputs": [],
   "source": [
    "df1.sort_values([\"date\"], axis=0, \n",
    "                 ascending=True, inplace=True) "
   ]
  },
  {
   "cell_type": "code",
   "execution_count": 30,
   "metadata": {},
   "outputs": [],
   "source": [
    "df1.set_index('date',inplace=True)"
   ]
  },
  {
   "cell_type": "code",
   "execution_count": 31,
   "metadata": {},
   "outputs": [
    {
     "data": {
      "text/html": [
       "<div>\n",
       "<style scoped>\n",
       "    .dataframe tbody tr th:only-of-type {\n",
       "        vertical-align: middle;\n",
       "    }\n",
       "\n",
       "    .dataframe tbody tr th {\n",
       "        vertical-align: top;\n",
       "    }\n",
       "\n",
       "    .dataframe thead th {\n",
       "        text-align: right;\n",
       "    }\n",
       "</style>\n",
       "<table border=\"1\" class=\"dataframe\">\n",
       "  <thead>\n",
       "    <tr style=\"text-align: right;\">\n",
       "      <th></th>\n",
       "      <th>intraperiod</th>\n",
       "      <th>frequency</th>\n",
       "      <th>open</th>\n",
       "      <th>high</th>\n",
       "      <th>low</th>\n",
       "      <th>close</th>\n",
       "      <th>volume</th>\n",
       "      <th>adj_open</th>\n",
       "      <th>adj_high</th>\n",
       "      <th>adj_low</th>\n",
       "      <th>adj_close</th>\n",
       "      <th>adj_volume</th>\n",
       "    </tr>\n",
       "    <tr>\n",
       "      <th>date</th>\n",
       "      <th></th>\n",
       "      <th></th>\n",
       "      <th></th>\n",
       "      <th></th>\n",
       "      <th></th>\n",
       "      <th></th>\n",
       "      <th></th>\n",
       "      <th></th>\n",
       "      <th></th>\n",
       "      <th></th>\n",
       "      <th></th>\n",
       "      <th></th>\n",
       "    </tr>\n",
       "  </thead>\n",
       "  <tbody>\n",
       "    <tr>\n",
       "      <td>2008-09-10</td>\n",
       "      <td>False</td>\n",
       "      <td>daily</td>\n",
       "      <td>26.55</td>\n",
       "      <td>26.86</td>\n",
       "      <td>26.25</td>\n",
       "      <td>26.44</td>\n",
       "      <td>75064901.0</td>\n",
       "      <td>20.170415</td>\n",
       "      <td>20.405926</td>\n",
       "      <td>19.942500</td>\n",
       "      <td>20.086846</td>\n",
       "      <td>75064901.0</td>\n",
       "    </tr>\n",
       "    <tr>\n",
       "      <td>2008-09-11</td>\n",
       "      <td>False</td>\n",
       "      <td>daily</td>\n",
       "      <td>26.09</td>\n",
       "      <td>27.46</td>\n",
       "      <td>26.03</td>\n",
       "      <td>27.34</td>\n",
       "      <td>72914650.0</td>\n",
       "      <td>19.820946</td>\n",
       "      <td>20.861755</td>\n",
       "      <td>19.775363</td>\n",
       "      <td>20.770589</td>\n",
       "      <td>72914650.0</td>\n",
       "    </tr>\n",
       "    <tr>\n",
       "      <td>2008-09-12</td>\n",
       "      <td>False</td>\n",
       "      <td>daily</td>\n",
       "      <td>27.20</td>\n",
       "      <td>27.74</td>\n",
       "      <td>26.94</td>\n",
       "      <td>27.62</td>\n",
       "      <td>75628494.0</td>\n",
       "      <td>20.664229</td>\n",
       "      <td>21.074475</td>\n",
       "      <td>20.466703</td>\n",
       "      <td>20.983309</td>\n",
       "      <td>75628494.0</td>\n",
       "    </tr>\n",
       "    <tr>\n",
       "      <td>2008-09-15</td>\n",
       "      <td>False</td>\n",
       "      <td>daily</td>\n",
       "      <td>26.93</td>\n",
       "      <td>27.49</td>\n",
       "      <td>26.73</td>\n",
       "      <td>26.82</td>\n",
       "      <td>82349376.0</td>\n",
       "      <td>20.459106</td>\n",
       "      <td>20.884546</td>\n",
       "      <td>20.307163</td>\n",
       "      <td>20.375537</td>\n",
       "      <td>82349376.0</td>\n",
       "    </tr>\n",
       "    <tr>\n",
       "      <td>2008-09-16</td>\n",
       "      <td>False</td>\n",
       "      <td>daily</td>\n",
       "      <td>26.10</td>\n",
       "      <td>26.49</td>\n",
       "      <td>25.52</td>\n",
       "      <td>25.99</td>\n",
       "      <td>111729652.0</td>\n",
       "      <td>19.828543</td>\n",
       "      <td>20.124832</td>\n",
       "      <td>19.387909</td>\n",
       "      <td>19.744975</td>\n",
       "      <td>111729652.0</td>\n",
       "    </tr>\n",
       "  </tbody>\n",
       "</table>\n",
       "</div>"
      ],
      "text/plain": [
       "            intraperiod frequency   open   high    low  close       volume  \\\n",
       "date                                                                         \n",
       "2008-09-10        False     daily  26.55  26.86  26.25  26.44   75064901.0   \n",
       "2008-09-11        False     daily  26.09  27.46  26.03  27.34   72914650.0   \n",
       "2008-09-12        False     daily  27.20  27.74  26.94  27.62   75628494.0   \n",
       "2008-09-15        False     daily  26.93  27.49  26.73  26.82   82349376.0   \n",
       "2008-09-16        False     daily  26.10  26.49  25.52  25.99  111729652.0   \n",
       "\n",
       "             adj_open   adj_high    adj_low  adj_close   adj_volume  \n",
       "date                                                                 \n",
       "2008-09-10  20.170415  20.405926  19.942500  20.086846   75064901.0  \n",
       "2008-09-11  19.820946  20.861755  19.775363  20.770589   72914650.0  \n",
       "2008-09-12  20.664229  21.074475  20.466703  20.983309   75628494.0  \n",
       "2008-09-15  20.459106  20.884546  20.307163  20.375537   82349376.0  \n",
       "2008-09-16  19.828543  20.124832  19.387909  19.744975  111729652.0  "
      ]
     },
     "execution_count": 31,
     "metadata": {},
     "output_type": "execute_result"
    }
   ],
   "source": [
    "df1.head()"
   ]
  },
  {
   "cell_type": "code",
   "execution_count": 32,
   "metadata": {},
   "outputs": [
    {
     "name": "stdout",
     "output_type": "stream",
     "text": [
      "[[209.04617]]\n"
     ]
    }
   ],
   "source": [
    "#Create a new dataframe\n",
    "new_df = df1.filter(['close'])\n",
    "#Get teh last 60 day closing price \n",
    "last_60_days = new_df[-60:].values\n",
    "#Scale the data to be values between 0 and 1\n",
    "last_60_days_scaled = scaler.transform(last_60_days)\n",
    "#Create an empty list\n",
    "X_test = []\n",
    "#Append teh past 60 days\n",
    "X_test.append(last_60_days_scaled)\n",
    "#Convert the X_test data set to a numpy array\n",
    "X_test = np.array(X_test)\n",
    "#Reshape the data\n",
    "X_test = np.reshape(X_test, (X_test.shape[0], X_test.shape[1], 1))\n",
    "#Get the predicted scaled price\n",
    "pred_price = model.predict(X_test)\n",
    "#undo the scaling \n",
    "pred_price = scaler.inverse_transform(pred_price)\n",
    "print(pred_price)"
   ]
  }
 ],
 "metadata": {
  "kernelspec": {
   "display_name": "Python 3",
   "language": "python",
   "name": "python3"
  },
  "language_info": {
   "codemirror_mode": {
    "name": "ipython",
    "version": 3
   },
   "file_extension": ".py",
   "mimetype": "text/x-python",
   "name": "python",
   "nbconvert_exporter": "python",
   "pygments_lexer": "ipython3",
   "version": "3.7.4"
  }
 },
 "nbformat": 4,
 "nbformat_minor": 4
}
