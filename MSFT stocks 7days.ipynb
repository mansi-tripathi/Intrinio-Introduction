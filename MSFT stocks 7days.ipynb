{
 "cells": [
  {
   "cell_type": "code",
   "execution_count": 5,
   "metadata": {},
   "outputs": [],
   "source": [
    "from __future__ import print_function\n",
    "import time\n",
    "import intrinio_sdk\n",
    "from intrinio_sdk.rest import ApiException\n",
    "from pprint import pprint\n",
    "import matplotlib.pyplot as plt\n",
    "intrinio_sdk.ApiClient().configuration.api_key['api_key'] = 'OmNjN2M0YzRjMjNhZjQ1Zjc3NzZiODI4MmNjMjc4Njgw'\n"
   ]
  },
  {
   "cell_type": "code",
   "execution_count": 6,
   "metadata": {
    "tags": []
   },
   "outputs": [],
   "source": [
    "import math\n",
    "import numpy as np\n",
    "import pandas as pd\n",
    "from sklearn.preprocessing import MinMaxScaler\n",
    "from keras.models import Sequential\n",
    "from keras.layers import Dense, LSTM\n",
    "import matplotlib.pyplot as plt\n",
    "plt.style.use('fivethirtyeight')"
   ]
  },
  {
   "cell_type": "code",
   "execution_count": 7,
   "metadata": {},
   "outputs": [],
   "source": [
    "security_api = intrinio_sdk.SecurityApi()\n",
    "\n",
    "identifier = 'MSFT' # str | A Security identifier (Ticker, FIGI, ISIN, CUSIP, Intrinio ID)\n",
    "start_date = '2010-01-01' # date | Return prices on or after the date (optional)\n",
    "end_date = '2020-08-11' # date | Return prices on or before the date (optional)\n",
    "frequency = 'daily' # str | Return stock prices in the given frequency (optional) (default to daily)\n",
    "page_size = 3000 # int | The number of results to return (optional) (default to 100)\n",
    "next_page = '' # str | Gets the next page of data from a previous API call (optional)\n",
    "\n",
    "try:\n",
    "  api_response = security_api.get_security_stock_prices(identifier, start_date=start_date, end_date=end_date, frequency=frequency, page_size=page_size, next_page=next_page)\n",
    "  #pprint(api_response)\n",
    "except ApiException as e:\n",
    "  print(\"Exception when calling SecurityApi->get_security_stock_prices: %s\\r\\n\" % e)\n",
    "        "
   ]
  },
  {
   "cell_type": "code",
   "execution_count": 8,
   "metadata": {},
   "outputs": [
    {
     "name": "stdout",
     "output_type": "stream",
     "text": [
      "2678\n"
     ]
    }
   ],
   "source": [
    "t=[]\n",
    "print(len(api_response.stock_prices))\n",
    "for i in range(len(api_response.stock_prices)):\n",
    "    temp = api_response.stock_prices[i].open\n",
    "    t.append(temp)"
   ]
  },
  {
   "cell_type": "code",
   "execution_count": 9,
   "metadata": {},
   "outputs": [
    {
     "data": {
      "text/html": [
       "<div>\n",
       "<style scoped>\n",
       "    .dataframe tbody tr th:only-of-type {\n",
       "        vertical-align: middle;\n",
       "    }\n",
       "\n",
       "    .dataframe tbody tr th {\n",
       "        vertical-align: top;\n",
       "    }\n",
       "\n",
       "    .dataframe thead th {\n",
       "        text-align: right;\n",
       "    }\n",
       "</style>\n",
       "<table border=\"1\" class=\"dataframe\">\n",
       "  <thead>\n",
       "    <tr style=\"text-align: right;\">\n",
       "      <th></th>\n",
       "      <th>intraperiod</th>\n",
       "      <th>frequency</th>\n",
       "      <th>open</th>\n",
       "      <th>high</th>\n",
       "      <th>low</th>\n",
       "      <th>close</th>\n",
       "      <th>volume</th>\n",
       "      <th>adj_open</th>\n",
       "      <th>adj_high</th>\n",
       "      <th>adj_low</th>\n",
       "      <th>adj_close</th>\n",
       "      <th>adj_volume</th>\n",
       "    </tr>\n",
       "    <tr>\n",
       "      <th>date</th>\n",
       "      <th></th>\n",
       "      <th></th>\n",
       "      <th></th>\n",
       "      <th></th>\n",
       "      <th></th>\n",
       "      <th></th>\n",
       "      <th></th>\n",
       "      <th></th>\n",
       "      <th></th>\n",
       "      <th></th>\n",
       "      <th></th>\n",
       "      <th></th>\n",
       "    </tr>\n",
       "  </thead>\n",
       "  <tbody>\n",
       "    <tr>\n",
       "      <td>2010-01-04</td>\n",
       "      <td>False</td>\n",
       "      <td>daily</td>\n",
       "      <td>30.65</td>\n",
       "      <td>31.10</td>\n",
       "      <td>30.59</td>\n",
       "      <td>30.950</td>\n",
       "      <td>38414185.0</td>\n",
       "      <td>23.992776</td>\n",
       "      <td>24.345035</td>\n",
       "      <td>23.945808</td>\n",
       "      <td>24.227615</td>\n",
       "      <td>38414185.0</td>\n",
       "    </tr>\n",
       "    <tr>\n",
       "      <td>2010-01-05</td>\n",
       "      <td>False</td>\n",
       "      <td>daily</td>\n",
       "      <td>30.87</td>\n",
       "      <td>31.10</td>\n",
       "      <td>30.64</td>\n",
       "      <td>30.960</td>\n",
       "      <td>49758862.0</td>\n",
       "      <td>24.164991</td>\n",
       "      <td>24.345035</td>\n",
       "      <td>23.984948</td>\n",
       "      <td>24.235443</td>\n",
       "      <td>49758862.0</td>\n",
       "    </tr>\n",
       "    <tr>\n",
       "      <td>2010-01-06</td>\n",
       "      <td>False</td>\n",
       "      <td>daily</td>\n",
       "      <td>30.88</td>\n",
       "      <td>31.08</td>\n",
       "      <td>30.52</td>\n",
       "      <td>30.770</td>\n",
       "      <td>58182332.0</td>\n",
       "      <td>24.172819</td>\n",
       "      <td>24.329379</td>\n",
       "      <td>23.891012</td>\n",
       "      <td>24.086711</td>\n",
       "      <td>58182332.0</td>\n",
       "    </tr>\n",
       "    <tr>\n",
       "      <td>2010-01-07</td>\n",
       "      <td>False</td>\n",
       "      <td>daily</td>\n",
       "      <td>30.61</td>\n",
       "      <td>30.70</td>\n",
       "      <td>30.19</td>\n",
       "      <td>30.452</td>\n",
       "      <td>50564285.0</td>\n",
       "      <td>23.961464</td>\n",
       "      <td>24.031916</td>\n",
       "      <td>23.632688</td>\n",
       "      <td>23.837782</td>\n",
       "      <td>50564285.0</td>\n",
       "    </tr>\n",
       "    <tr>\n",
       "      <td>2010-01-08</td>\n",
       "      <td>False</td>\n",
       "      <td>daily</td>\n",
       "      <td>30.27</td>\n",
       "      <td>30.88</td>\n",
       "      <td>30.24</td>\n",
       "      <td>30.660</td>\n",
       "      <td>51201289.0</td>\n",
       "      <td>23.695312</td>\n",
       "      <td>24.172819</td>\n",
       "      <td>23.671828</td>\n",
       "      <td>24.000604</td>\n",
       "      <td>51201289.0</td>\n",
       "    </tr>\n",
       "  </tbody>\n",
       "</table>\n",
       "</div>"
      ],
      "text/plain": [
       "            intraperiod frequency   open   high    low   close      volume  \\\n",
       "date                                                                         \n",
       "2010-01-04        False     daily  30.65  31.10  30.59  30.950  38414185.0   \n",
       "2010-01-05        False     daily  30.87  31.10  30.64  30.960  49758862.0   \n",
       "2010-01-06        False     daily  30.88  31.08  30.52  30.770  58182332.0   \n",
       "2010-01-07        False     daily  30.61  30.70  30.19  30.452  50564285.0   \n",
       "2010-01-08        False     daily  30.27  30.88  30.24  30.660  51201289.0   \n",
       "\n",
       "             adj_open   adj_high    adj_low  adj_close  adj_volume  \n",
       "date                                                                \n",
       "2010-01-04  23.992776  24.345035  23.945808  24.227615  38414185.0  \n",
       "2010-01-05  24.164991  24.345035  23.984948  24.235443  49758862.0  \n",
       "2010-01-06  24.172819  24.329379  23.891012  24.086711  58182332.0  \n",
       "2010-01-07  23.961464  24.031916  23.632688  23.837782  50564285.0  \n",
       "2010-01-08  23.695312  24.172819  23.671828  24.000604  51201289.0  "
      ]
     },
     "execution_count": 9,
     "metadata": {},
     "output_type": "execute_result"
    }
   ],
   "source": [
    "df = pd.DataFrame(api_response.stock_prices_dict)\n",
    "df.sort_values([\"date\"], axis=0, \n",
    "                 ascending=True, inplace=True) \n",
    "df.set_index('date',inplace=True)\n",
    "df.head()"
   ]
  },
  {
   "cell_type": "code",
   "execution_count": 10,
   "metadata": {},
   "outputs": [
    {
     "data": {
      "text/plain": [
       "(2678, 12)"
      ]
     },
     "execution_count": 10,
     "metadata": {},
     "output_type": "execute_result"
    }
   ],
   "source": [
    "df.shape"
   ]
  },
  {
   "cell_type": "code",
   "execution_count": 10,
   "metadata": {},
   "outputs": [],
   "source": [
    "#df['close'].plot(figsize=(16,6))"
   ]
  },
  {
   "cell_type": "code",
   "execution_count": 11,
   "metadata": {},
   "outputs": [
    {
     "name": "stderr",
     "output_type": "stream",
     "text": [
      "C:\\Users\\Akhilesh\\Anaconda3\\lib\\site-packages\\pandas\\plotting\\_matplotlib\\converter.py:103: FutureWarning: Using an implicitly registered datetime converter for a matplotlib plotting method. The converter was registered by pandas on import. Future versions of pandas will require you to explicitly register matplotlib converters.\n",
      "\n",
      "To register the converters:\n",
      "\t>>> from pandas.plotting import register_matplotlib_converters\n",
      "\t>>> register_matplotlib_converters()\n",
      "  warnings.warn(msg, FutureWarning)\n"
     ]
    },
    {
     "data": {
      "image/png": "[encoded data removed]",
      "text/plain": [
       "<Figure size 1152x576 with 1 Axes>"
      ]
     },
     "metadata": {},
     "output_type": "display_data"
    }
   ],
   "source": [
    "#Visualize the closing price history\n",
    "plt.figure(figsize=(16,8))\n",
    "plt.title('Close Price History')\n",
    "plt.plot(df['close'])\n",
    "\n",
    "plt.xlabel('date',fontsize=18)\n",
    "plt.ylabel('Close Price USD ($)',fontsize=18)\n",
    "plt.show()"
   ]
  },
  {
   "cell_type": "code",
   "execution_count": 12,
   "metadata": {},
   "outputs": [
    {
     "data": {
      "text/html": [
       "<div>\n",
       "<style scoped>\n",
       "    .dataframe tbody tr th:only-of-type {\n",
       "        vertical-align: middle;\n",
       "    }\n",
       "\n",
       "    .dataframe tbody tr th {\n",
       "        vertical-align: top;\n",
       "    }\n",
       "\n",
       "    .dataframe thead th {\n",
       "        text-align: right;\n",
       "    }\n",
       "</style>\n",
       "<table border=\"1\" class=\"dataframe\">\n",
       "  <thead>\n",
       "    <tr style=\"text-align: right;\">\n",
       "      <th></th>\n",
       "      <th>close</th>\n",
       "    </tr>\n",
       "    <tr>\n",
       "      <th>date</th>\n",
       "      <th></th>\n",
       "    </tr>\n",
       "  </thead>\n",
       "  <tbody>\n",
       "    <tr>\n",
       "      <td>2010-01-04</td>\n",
       "      <td>30.950</td>\n",
       "    </tr>\n",
       "    <tr>\n",
       "      <td>2010-01-05</td>\n",
       "      <td>30.960</td>\n",
       "    </tr>\n",
       "    <tr>\n",
       "      <td>2010-01-06</td>\n",
       "      <td>30.770</td>\n",
       "    </tr>\n",
       "    <tr>\n",
       "      <td>2010-01-07</td>\n",
       "      <td>30.452</td>\n",
       "    </tr>\n",
       "    <tr>\n",
       "      <td>2010-01-08</td>\n",
       "      <td>30.660</td>\n",
       "    </tr>\n",
       "    <tr>\n",
       "      <td>...</td>\n",
       "      <td>...</td>\n",
       "    </tr>\n",
       "    <tr>\n",
       "      <td>2020-08-05</td>\n",
       "      <td>212.940</td>\n",
       "    </tr>\n",
       "    <tr>\n",
       "      <td>2020-08-06</td>\n",
       "      <td>216.350</td>\n",
       "    </tr>\n",
       "    <tr>\n",
       "      <td>2020-08-07</td>\n",
       "      <td>212.480</td>\n",
       "    </tr>\n",
       "    <tr>\n",
       "      <td>2020-08-10</td>\n",
       "      <td>208.250</td>\n",
       "    </tr>\n",
       "    <tr>\n",
       "      <td>2020-08-11</td>\n",
       "      <td>203.380</td>\n",
       "    </tr>\n",
       "  </tbody>\n",
       "</table>\n",
       "<p>2678 rows × 1 columns</p>\n",
       "</div>"
      ],
      "text/plain": [
       "              close\n",
       "date               \n",
       "2010-01-04   30.950\n",
       "2010-01-05   30.960\n",
       "2010-01-06   30.770\n",
       "2010-01-07   30.452\n",
       "2010-01-08   30.660\n",
       "...             ...\n",
       "2020-08-05  212.940\n",
       "2020-08-06  216.350\n",
       "2020-08-07  212.480\n",
       "2020-08-10  208.250\n",
       "2020-08-11  203.380\n",
       "\n",
       "[2678 rows x 1 columns]"
      ]
     },
     "execution_count": 12,
     "metadata": {},
     "output_type": "execute_result"
    }
   ],
   "source": [
    "#Create a new dataframe with only the 'Close' column\n",
    "data = df.filter(['close'])\n",
    "#Converting the dataframe to a numpy array\n",
    "dataset = data.values\n",
    "#Get /Compute the number of rows to train the model on\n",
    "training_data_len = math.ceil( len(dataset) *.8) \n",
    "data"
   ]
  },
  {
   "cell_type": "code",
   "execution_count": 13,
   "metadata": {},
   "outputs": [],
   "source": [
    "#Scale the all of the data to be values between 0 and 1 \n",
    "scaler = MinMaxScaler(feature_range=(0, 1)) \n",
    "scaled_data = scaler.fit_transform(dataset)"
   ]
  },
  {
   "cell_type": "code",
   "execution_count": 14,
   "metadata": {},
   "outputs": [],
   "source": [
    "#Create the scaled training data set \n",
    "train_data = scaled_data[0:training_data_len  , : ]\n",
    "#Split the data into x_train and y_train data sets\n",
    "x_train=[]\n",
    "y_train = []\n",
    "for i in range(60,len(train_data)):\n",
    "    x_train.append(train_data[i-60:i,0])\n",
    "    y_train.append(train_data[i,0])\n"
   ]
  },
  {
   "cell_type": "code",
   "execution_count": 15,
   "metadata": {},
   "outputs": [],
   "source": [
    "#Convert x_train and y_train to numpy arrays\n",
    "x_train, y_train = np.array(x_train), np.array(y_train)"
   ]
  },
  {
   "cell_type": "code",
   "execution_count": null,
   "metadata": {},
   "outputs": [],
   "source": []
  },
  {
   "cell_type": "code",
   "execution_count": 16,
   "metadata": {},
   "outputs": [],
   "source": [
    "#Reshape the data into the shape accepted by the LSTM\n",
    "x_train = np.reshape(x_train, (x_train.shape[0],x_train.shape[1],1))"
   ]
  },
  {
   "cell_type": "code",
   "execution_count": 17,
   "metadata": {
    "tags": []
   },
   "outputs": [
    {
     "name": "stdout",
     "output_type": "stream",
     "text": [
      "WARNING:tensorflow:From C:\\Users\\Akhilesh\\Anaconda3\\lib\\site-packages\\tensorflow_core\\python\\ops\\resource_variable_ops.py:1630: calling BaseResourceVariable.__init__ (from tensorflow.python.ops.resource_variable_ops) with constraint is deprecated and will be removed in a future version.\n",
      "Instructions for updating:\n",
      "If using Keras pass *_constraint arguments to layers.\n"
     ]
    }
   ],
   "source": [
    "#Build the LSTM network model\n",
    "model = Sequential()\n",
    "model.add(LSTM(units=50, return_sequences=True,input_shape=(x_train.shape[1],1)))\n",
    "model.add(LSTM(units=50, return_sequences=False))\n",
    "model.add(Dense(units=25))\n",
    "model.add(Dense(units=1))"
   ]
  },
  {
   "cell_type": "code",
   "execution_count": 18,
   "metadata": {
    "tags": []
   },
   "outputs": [],
   "source": [
    "#Compile the model\n",
    "model.compile(optimizer='adam', loss='mean_squared_error')"
   ]
  },
  {
   "cell_type": "code",
   "execution_count": 19,
   "metadata": {
    "tags": []
   },
   "outputs": [
    {
     "name": "stdout",
     "output_type": "stream",
     "text": [
      "WARNING:tensorflow:From C:\\Users\\Akhilesh\\Anaconda3\\lib\\site-packages\\keras\\backend\\tensorflow_backend.py:422: The name tf.global_variables is deprecated. Please use tf.compat.v1.global_variables instead.\n",
      "\n",
      "Epoch 1/1\n",
      "2083/2083 [==============================] - 95s 46ms/step - loss: 1.9758e-04\n"
     ]
    },
    {
     "data": {
      "text/plain": [
       "<keras.callbacks.callbacks.History at 0x1f7bf77b508>"
      ]
     },
     "execution_count": 19,
     "metadata": {},
     "output_type": "execute_result"
    }
   ],
   "source": [
    "#Train the model\n",
    "model.fit(x_train, y_train, batch_size=1, epochs=1)"
   ]
  },
  {
   "cell_type": "code",
   "execution_count": 20,
   "metadata": {},
   "outputs": [],
   "source": [
    "#Test data set\n",
    "test_data = scaled_data[training_data_len - 60: , : ]\n",
    "#Create the x_test and y_test data sets\n",
    "x_test = []\n",
    "y_test =  dataset[training_data_len : , : ] #Get all of the rows from index 1603 to the rest and all of the columns (in this case it's only column 'Close'), so 2003 - 1603 = 400 rows of data\n",
    "for i in range(60,len(test_data)):\n",
    "    x_test.append(test_data[i-60:i,0])\n"
   ]
  },
  {
   "cell_type": "code",
   "execution_count": 21,
   "metadata": {},
   "outputs": [],
   "source": [
    "#Convert x_test to a numpy array \n",
    "x_test = np.array(x_test)"
   ]
  },
  {
   "cell_type": "code",
   "execution_count": 22,
   "metadata": {},
   "outputs": [],
   "source": [
    "#Reshape the data into the shape accepted by the LSTM\n",
    "x_test = np.reshape(x_test, (x_test.shape[0],x_test.shape[1],1))"
   ]
  },
  {
   "cell_type": "code",
   "execution_count": 23,
   "metadata": {},
   "outputs": [],
   "source": [
    "#Getting the models predicted price values\n",
    "predictions = model.predict(x_test) \n",
    "predictions = scaler.inverse_transform(predictions)#Undo scaling"
   ]
  },
  {
   "cell_type": "code",
   "execution_count": 24,
   "metadata": {},
   "outputs": [
    {
     "data": {
      "text/plain": [
       "5.404289717300327"
      ]
     },
     "execution_count": 24,
     "metadata": {},
     "output_type": "execute_result"
    }
   ],
   "source": [
    "#Calculate/Get the value of RMSE\n",
    "rmse=np.sqrt(np.mean(((predictions- y_test)**2)))\n",
    "rmse"
   ]
  },
  {
   "cell_type": "code",
   "execution_count": 26,
   "metadata": {},
   "outputs": [
    {
     "name": "stderr",
     "output_type": "stream",
     "text": [
      "C:\\Users\\Akhilesh\\Anaconda3\\lib\\site-packages\\ipykernel_launcher.py:4: SettingWithCopyWarning: \n",
      "A value is trying to be set on a copy of a slice from a DataFrame.\n",
      "Try using .loc[row_indexer,col_indexer] = value instead\n",
      "\n",
      "See the caveats in the documentation: http://pandas.pydata.org/pandas-docs/stable/user_guide/indexing.html#returning-a-view-versus-a-copy\n",
      "  after removing the cwd from sys.path.\n"
     ]
    },
    {
     "data": {
      "image/png": "[encoded data removed]",
      "text/plain": [
       "<Figure size 1152x576 with 1 Axes>"
      ]
     },
     "metadata": {},
     "output_type": "display_data"
    }
   ],
   "source": [
    "#Plot/Create the data for the graph\n",
    "train = data[:training_data_len]\n",
    "valid = data[training_data_len:]\n",
    "valid['Predictions'] = predictions\n",
    "#Visualize the data\n",
    "\n",
    "plt.figure(figsize=(16,8))\n",
    "plt.title('Model')\n",
    "plt.xlabel('Date', fontsize=18)\n",
    "plt.ylabel('Close Price USD ($)', fontsize=18)\n",
    "plt.plot(train['close'])\n",
    "plt.plot(valid[['close', 'Predictions']])\n",
    "plt.legend(['Train', 'Val', 'Predictions'], loc='lower right')\n",
    "plt.show()\n"
   ]
  },
  {
   "cell_type": "code",
   "execution_count": 27,
   "metadata": {},
   "outputs": [
    {
     "data": {
      "text/html": [
       "<div>\n",
       "<style scoped>\n",
       "    .dataframe tbody tr th:only-of-type {\n",
       "        vertical-align: middle;\n",
       "    }\n",
       "\n",
       "    .dataframe tbody tr th {\n",
       "        vertical-align: top;\n",
       "    }\n",
       "\n",
       "    .dataframe thead th {\n",
       "        text-align: right;\n",
       "    }\n",
       "</style>\n",
       "<table border=\"1\" class=\"dataframe\">\n",
       "  <thead>\n",
       "    <tr style=\"text-align: right;\">\n",
       "      <th></th>\n",
       "      <th>close</th>\n",
       "      <th>Predictions</th>\n",
       "    </tr>\n",
       "    <tr>\n",
       "      <th>date</th>\n",
       "      <th></th>\n",
       "      <th></th>\n",
       "    </tr>\n",
       "  </thead>\n",
       "  <tbody>\n",
       "    <tr>\n",
       "      <td>2018-06-27</td>\n",
       "      <td>97.54</td>\n",
       "      <td>102.459465</td>\n",
       "    </tr>\n",
       "    <tr>\n",
       "      <td>2018-06-28</td>\n",
       "      <td>98.63</td>\n",
       "      <td>102.013832</td>\n",
       "    </tr>\n",
       "    <tr>\n",
       "      <td>2018-06-29</td>\n",
       "      <td>98.61</td>\n",
       "      <td>101.684036</td>\n",
       "    </tr>\n",
       "    <tr>\n",
       "      <td>2018-07-02</td>\n",
       "      <td>100.01</td>\n",
       "      <td>101.439972</td>\n",
       "    </tr>\n",
       "    <tr>\n",
       "      <td>2018-07-03</td>\n",
       "      <td>99.05</td>\n",
       "      <td>101.420364</td>\n",
       "    </tr>\n",
       "    <tr>\n",
       "      <td>...</td>\n",
       "      <td>...</td>\n",
       "      <td>...</td>\n",
       "    </tr>\n",
       "    <tr>\n",
       "      <td>2020-08-05</td>\n",
       "      <td>212.94</td>\n",
       "      <td>198.770798</td>\n",
       "    </tr>\n",
       "    <tr>\n",
       "      <td>2020-08-06</td>\n",
       "      <td>216.35</td>\n",
       "      <td>199.821548</td>\n",
       "    </tr>\n",
       "    <tr>\n",
       "      <td>2020-08-07</td>\n",
       "      <td>212.48</td>\n",
       "      <td>201.018890</td>\n",
       "    </tr>\n",
       "    <tr>\n",
       "      <td>2020-08-10</td>\n",
       "      <td>208.25</td>\n",
       "      <td>201.705063</td>\n",
       "    </tr>\n",
       "    <tr>\n",
       "      <td>2020-08-11</td>\n",
       "      <td>203.38</td>\n",
       "      <td>201.687988</td>\n",
       "    </tr>\n",
       "  </tbody>\n",
       "</table>\n",
       "<p>535 rows × 2 columns</p>\n",
       "</div>"
      ],
      "text/plain": [
       "             close  Predictions\n",
       "date                           \n",
       "2018-06-27   97.54   102.459465\n",
       "2018-06-28   98.63   102.013832\n",
       "2018-06-29   98.61   101.684036\n",
       "2018-07-02  100.01   101.439972\n",
       "2018-07-03   99.05   101.420364\n",
       "...            ...          ...\n",
       "2020-08-05  212.94   198.770798\n",
       "2020-08-06  216.35   199.821548\n",
       "2020-08-07  212.48   201.018890\n",
       "2020-08-10  208.25   201.705063\n",
       "2020-08-11  203.38   201.687988\n",
       "\n",
       "[535 rows x 2 columns]"
      ]
     },
     "execution_count": 27,
     "metadata": {},
     "output_type": "execute_result"
    }
   ],
   "source": [
    "#Show the valid and predicted prices\n",
    "valid"
   ]
  },
  {
   "cell_type": "code",
   "execution_count": 30,
   "metadata": {},
   "outputs": [
    {
     "data": {
      "text/html": [
       "<div>\n",
       "<style scoped>\n",
       "    .dataframe tbody tr th:only-of-type {\n",
       "        vertical-align: middle;\n",
       "    }\n",
       "\n",
       "    .dataframe tbody tr th {\n",
       "        vertical-align: top;\n",
       "    }\n",
       "\n",
       "    .dataframe thead th {\n",
       "        text-align: right;\n",
       "    }\n",
       "</style>\n",
       "<table border=\"1\" class=\"dataframe\">\n",
       "  <thead>\n",
       "    <tr style=\"text-align: right;\">\n",
       "      <th></th>\n",
       "      <th>intraperiod</th>\n",
       "      <th>frequency</th>\n",
       "      <th>open</th>\n",
       "      <th>high</th>\n",
       "      <th>low</th>\n",
       "      <th>close</th>\n",
       "      <th>volume</th>\n",
       "      <th>adj_open</th>\n",
       "      <th>adj_high</th>\n",
       "      <th>adj_low</th>\n",
       "      <th>adj_close</th>\n",
       "      <th>adj_volume</th>\n",
       "    </tr>\n",
       "    <tr>\n",
       "      <th>date</th>\n",
       "      <th></th>\n",
       "      <th></th>\n",
       "      <th></th>\n",
       "      <th></th>\n",
       "      <th></th>\n",
       "      <th></th>\n",
       "      <th></th>\n",
       "      <th></th>\n",
       "      <th></th>\n",
       "      <th></th>\n",
       "      <th></th>\n",
       "      <th></th>\n",
       "    </tr>\n",
       "  </thead>\n",
       "  <tbody>\n",
       "    <tr>\n",
       "      <td>2010-01-04</td>\n",
       "      <td>False</td>\n",
       "      <td>daily</td>\n",
       "      <td>30.65</td>\n",
       "      <td>31.10</td>\n",
       "      <td>30.59</td>\n",
       "      <td>30.950</td>\n",
       "      <td>38414185.0</td>\n",
       "      <td>23.992776</td>\n",
       "      <td>24.345035</td>\n",
       "      <td>23.945808</td>\n",
       "      <td>24.227615</td>\n",
       "      <td>38414185.0</td>\n",
       "    </tr>\n",
       "    <tr>\n",
       "      <td>2010-01-05</td>\n",
       "      <td>False</td>\n",
       "      <td>daily</td>\n",
       "      <td>30.87</td>\n",
       "      <td>31.10</td>\n",
       "      <td>30.64</td>\n",
       "      <td>30.960</td>\n",
       "      <td>49758862.0</td>\n",
       "      <td>24.164991</td>\n",
       "      <td>24.345035</td>\n",
       "      <td>23.984948</td>\n",
       "      <td>24.235443</td>\n",
       "      <td>49758862.0</td>\n",
       "    </tr>\n",
       "    <tr>\n",
       "      <td>2010-01-06</td>\n",
       "      <td>False</td>\n",
       "      <td>daily</td>\n",
       "      <td>30.88</td>\n",
       "      <td>31.08</td>\n",
       "      <td>30.52</td>\n",
       "      <td>30.770</td>\n",
       "      <td>58182332.0</td>\n",
       "      <td>24.172819</td>\n",
       "      <td>24.329379</td>\n",
       "      <td>23.891012</td>\n",
       "      <td>24.086711</td>\n",
       "      <td>58182332.0</td>\n",
       "    </tr>\n",
       "    <tr>\n",
       "      <td>2010-01-07</td>\n",
       "      <td>False</td>\n",
       "      <td>daily</td>\n",
       "      <td>30.61</td>\n",
       "      <td>30.70</td>\n",
       "      <td>30.19</td>\n",
       "      <td>30.452</td>\n",
       "      <td>50564285.0</td>\n",
       "      <td>23.961464</td>\n",
       "      <td>24.031916</td>\n",
       "      <td>23.632688</td>\n",
       "      <td>23.837782</td>\n",
       "      <td>50564285.0</td>\n",
       "    </tr>\n",
       "    <tr>\n",
       "      <td>2010-01-08</td>\n",
       "      <td>False</td>\n",
       "      <td>daily</td>\n",
       "      <td>30.27</td>\n",
       "      <td>30.88</td>\n",
       "      <td>30.24</td>\n",
       "      <td>30.660</td>\n",
       "      <td>51201289.0</td>\n",
       "      <td>23.695312</td>\n",
       "      <td>24.172819</td>\n",
       "      <td>23.671828</td>\n",
       "      <td>24.000604</td>\n",
       "      <td>51201289.0</td>\n",
       "    </tr>\n",
       "  </tbody>\n",
       "</table>\n",
       "</div>"
      ],
      "text/plain": [
       "            intraperiod frequency   open   high    low   close      volume  \\\n",
       "date                                                                         \n",
       "2010-01-04        False     daily  30.65  31.10  30.59  30.950  38414185.0   \n",
       "2010-01-05        False     daily  30.87  31.10  30.64  30.960  49758862.0   \n",
       "2010-01-06        False     daily  30.88  31.08  30.52  30.770  58182332.0   \n",
       "2010-01-07        False     daily  30.61  30.70  30.19  30.452  50564285.0   \n",
       "2010-01-08        False     daily  30.27  30.88  30.24  30.660  51201289.0   \n",
       "\n",
       "             adj_open   adj_high    adj_low  adj_close  adj_volume  \n",
       "date                                                                \n",
       "2010-01-04  23.992776  24.345035  23.945808  24.227615  38414185.0  \n",
       "2010-01-05  24.164991  24.345035  23.984948  24.235443  49758862.0  \n",
       "2010-01-06  24.172819  24.329379  23.891012  24.086711  58182332.0  \n",
       "2010-01-07  23.961464  24.031916  23.632688  23.837782  50564285.0  \n",
       "2010-01-08  23.695312  24.172819  23.671828  24.000604  51201289.0  "
      ]
     },
     "execution_count": 30,
     "metadata": {},
     "output_type": "execute_result"
    }
   ],
   "source": [
    "security_api = intrinio_sdk.SecurityApi()\n",
    "\n",
    "identifier = 'MSFT' # str | A Security identifier (Ticker, FIGI, ISIN, CUSIP, Intrinio ID)\n",
    "start_date = '2010-01-01' # date | Return prices on or after the date (optional)\n",
    "end_date = '2020-08-11' # date | Return prices on or before the date (optional)\n",
    "frequency = 'daily' # str | Return stock prices in the given frequency (optional) (default to daily)\n",
    "page_size = 3000 # int | The number of results to return (optional) (default to 100)\n",
    "next_page = '' # str | Gets the next page of data from a previous API call (optional)\n",
    "\n",
    "try:\n",
    "  api_response = security_api.get_security_stock_prices(identifier, start_date=start_date, end_date=end_date, frequency=frequency, page_size=page_size, next_page=next_page)\n",
    "  #pprint(api_response)\n",
    "except ApiException as e:\n",
    "  print(\"Exception when calling SecurityApi->get_security_stock_prices: %s\\r\\n\" % e)\n",
    "\n",
    "df1 = pd.DataFrame(api_response.stock_prices_dict)\n",
    "df1.sort_values([\"date\"], axis=0, \n",
    "                 ascending=True, inplace=True) \n",
    "df1.set_index('date',inplace=True)\n",
    "df1.head()"
   ]
  },
  {
   "cell_type": "code",
   "execution_count": 31,
   "metadata": {
    "tags": []
   },
   "outputs": [
    {
     "name": "stdout",
     "output_type": "stream",
     "text": [
      "[[200.90259]]\n"
     ]
    }
   ],
   "source": [
    "#Create a new dataframe\n",
    "new_df = df1.filter(['close'])\n",
    "#Get teh last 60 day closing price \n",
    "last_60_days = new_df[-60:].values\n",
    "#Scale the data to be values between 0 and 1\n",
    "last_60_days_scaled = scaler.transform(last_60_days)\n",
    "#Create an empty list\n",
    "X_test = []\n",
    "#Append teh past 60 days\n",
    "X_test.append(last_60_days_scaled)\n",
    "#Convert the X_test data set to a numpy array\n",
    "X_test = np.array(X_test)\n",
    "#Reshape the data\n",
    "X_test = np.reshape(X_test, (X_test.shape[0], X_test.shape[1], 1))\n",
    "\n",
    "#Get the predicted scaled price\n",
    "pred_price = model.predict(X_test)\n",
    "#undo the scaling \n",
    "pred_price = scaler.inverse_transform(pred_price)\n",
    "print(pred_price)\n"
   ]
  },
  {
   "cell_type": "code",
   "execution_count": 32,
   "metadata": {},
   "outputs": [
    {
     "data": {
      "text/plain": [
       "(1, 60)"
      ]
     },
     "execution_count": 32,
     "metadata": {},
     "output_type": "execute_result"
    }
   ],
   "source": [
    "x_input=test_data[535:].reshape(1,-1) #Last 60 data as input \n",
    "x_input.shape"
   ]
  },
  {
   "cell_type": "code",
   "execution_count": 33,
   "metadata": {},
   "outputs": [],
   "source": [
    "temp_input=list(x_input) #Converting last 60 days data into list\n",
    "temp_input=temp_input[0].tolist()\n"
   ]
  },
  {
   "cell_type": "code",
   "execution_count": 34,
   "metadata": {},
   "outputs": [
    {
     "data": {
      "text/plain": [
       "[0.8365628067999793,\n",
       " 0.8299488451402883,\n",
       " 0.8404381749599545,\n",
       " 0.8289154136309617,\n",
       " 0.8293287862346923,\n",
       " 0.8193045005942231,\n",
       " 0.8205446184054151,\n",
       " 0.8184260838112954,\n",
       " 0.8279853252725675,\n",
       " 0.8258151191029816,\n",
       " 0.8365628067999793,\n",
       " 0.8388880276959645,\n",
       " 0.8262801632821785,\n",
       " 0.8483955975817702,\n",
       " 0.8543895003358654,\n",
       " 0.8618302072030177,\n",
       " 0.8982069963313183,\n",
       " 0.8435901410634011,\n",
       " 0.8511858626569525,\n",
       " 0.8573864517129127,\n",
       " 0.8813103911538264,\n",
       " 0.8847723867100709,\n",
       " 0.8955200744070687,\n",
       " 0.8894745000775074,\n",
       " 0.9174804939802615,\n",
       " 0.9244044850927505,\n",
       " 0.9033741538779517,\n",
       " 0.9162920477445359,\n",
       " 0.8955717459825351,\n",
       " 0.9064744484059318,\n",
       " 0.9326719371673643,\n",
       " 0.9388208546478581,\n",
       " 0.9468816204206066,\n",
       " 0.9698237999276597,\n",
       " 0.9571642639384076,\n",
       " 0.9808298455019894,\n",
       " 0.9885289102464735,\n",
       " 0.9851702578411615,\n",
       " 0.9510670180333799,\n",
       " 0.9576809796930709,\n",
       " 0.9560791608536144,\n",
       " 0.934790471761484,\n",
       " 0.9294166279129851,\n",
       " 0.97447424171963,\n",
       " 0.9597478427117242,\n",
       " 0.9752493153516252,\n",
       " 0.9276597943471295,\n",
       " 0.921252518989304,\n",
       " 0.9344287707332196,\n",
       " 0.9249728724228802,\n",
       " 0.9355138738180128,\n",
       " 0.9346871286105515,\n",
       " 0.9404226734873146,\n",
       " 0.9999999999999999,\n",
       " 0.9832067379734407,\n",
       " 0.981398232832119,\n",
       " 0.9990182400661397,\n",
       " 0.9790213403606675,\n",
       " 0.9571642639384076,\n",
       " 0.9320002066863019]"
      ]
     },
     "execution_count": 34,
     "metadata": {},
     "output_type": "execute_result"
    }
   ],
   "source": [
    "temp_input"
   ]
  },
  {
   "cell_type": "code",
   "execution_count": 35,
   "metadata": {
    "tags": []
   },
   "outputs": [
    {
     "name": "stdout",
     "output_type": "stream",
     "text": [
      "[0.91919905]\n",
      "61\n",
      "1 day output [[0.9127947]]\n",
      "2 day output [[0.90558136]]\n",
      "3 day output [[0.89819986]]\n",
      "4 day output [[0.8909426]]\n",
      "5 day output [[0.88393146]]\n",
      "6 day output [[0.87720907]]\n",
      "\n",
      "\n",
      "After performing scalar inverse transform:\n",
      "\n"
     ]
    },
    {
     "data": {
      "text/plain": [
       "array([[200.90259204],\n",
       "       [199.66316007],\n",
       "       [198.26715965],\n",
       "       [196.83861819],\n",
       "       [195.43411626],\n",
       "       [194.07725507],\n",
       "       [192.7762708 ]])"
      ]
     },
     "execution_count": 35,
     "metadata": {},
     "output_type": "execute_result"
    }
   ],
   "source": [
    "# demonstrate prediction for next 7 days\n",
    "from numpy import array\n",
    "\n",
    "lst_output=[]\n",
    "n_steps=60\n",
    "i=0\n",
    "while(i<7):\n",
    "    \n",
    "    if(len(temp_input)>60):\n",
    "        #print(temp_input)\n",
    "        x_input=np.array(temp_input[1:])\n",
    "        #print(\"{} day input {}\".format(i,x_input))\n",
    "        x_input=x_input.reshape(1,-1)\n",
    "        x_input = x_input.reshape((1, n_steps, 1))\n",
    "        #print(x_input)\n",
    "        yhat = model.predict(x_input, verbose=0)\n",
    "        print(\"{} day output {}\".format(i,yhat))\n",
    "        temp_input.extend(yhat[0].tolist())\n",
    "        temp_input=temp_input[1:]\n",
    "        #print(temp_input)\n",
    "        lst_output.extend(yhat.tolist())\n",
    "        i=i+1\n",
    "    else:\n",
    "        x_input = x_input.reshape((1, n_steps,1))\n",
    "        yhat = model.predict(x_input, verbose=0)\n",
    "        print(yhat[0])\n",
    "        temp_input.extend(yhat[0].tolist())\n",
    "        print(len(temp_input))\n",
    "        lst_output.extend(yhat.tolist())\n",
    "        i=i+1\n",
    "    \n",
    "\n",
    "# Undo the scaling\n",
    "print(\"\\n\\nAfter performing scalar inverse transform:\\n\")\n",
    "scaler.inverse_transform(lst_output)"
   ]
  },
  {
   "cell_type": "code",
   "execution_count": null,
   "metadata": {},
   "outputs": [],
   "source": []
  }
 ],
 "metadata": {
  "kernelspec": {
   "display_name": "Python 3",
   "language": "python",
   "name": "python3"
  },
  "language_info": {
   "codemirror_mode": {
    "name": "ipython",
    "version": 3
   },
   "file_extension": ".py",
   "mimetype": "text/x-python",
   "name": "python",
   "nbconvert_exporter": "python",
   "pygments_lexer": "ipython3",
   "version": "3.7.4"
  }
 },
 "nbformat": 4,
 "nbformat_minor": 4
}
